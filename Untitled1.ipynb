## trying stuff 
## to learn
print(hello world)
